{
 "cells": [
  {
   "cell_type": "markdown",
   "id": "fd93fd84",
   "metadata": {},
   "source": [
    "### Website em Python\n",
    "\n",
    "Será desenvolvido um sistema web usando Flask (framework para desenvolvimento web em Python)."
   ]
  },
  {
   "cell_type": "code",
   "execution_count": null,
   "id": "362a76a8",
   "metadata": {},
   "outputs": [],
   "source": [
    "# !pip install flask"
   ]
  },
  {
   "cell_type": "code",
   "execution_count": null,
   "id": "68a9f018",
   "metadata": {},
   "outputs": [],
   "source": [
    "from flask import Flask, render_template\n",
    "\n",
    "app = Flask(__name__)"
   ]
  },
  {
   "cell_type": "code",
   "execution_count": null,
   "id": "cbd23f81",
   "metadata": {
    "collapsed": true
   },
   "outputs": [],
   "source": [
    "# Criar primeira página\n",
    "    \n",
    "# Route -> caminho definido a partir do domínio do site\n",
    "@app.route(\"/\")\n",
    "def homepage():\n",
    "    return render_template(\"homepage.html\")"
   ]
  },
  {
   "cell_type": "code",
   "execution_count": null,
   "id": "2518802d",
   "metadata": {},
   "outputs": [],
   "source": [
    "@app.route(\"/contato\")\n",
    "def contact():\n",
    "    return render_template(\"contato.html\")"
   ]
  },
  {
   "cell_type": "code",
   "execution_count": null,
   "id": "fef83314",
   "metadata": {},
   "outputs": [],
   "source": [
    "@app.route(\"/users/<username>\")\n",
    "def users(username):\n",
    "    return render_template(\"users.html\", username=username)"
   ]
  },
  {
   "cell_type": "code",
   "execution_count": null,
   "id": "cd8763b4",
   "metadata": {},
   "outputs": [],
   "source": [
    "# Colocar projeto no ar\n",
    "\n",
    "if __name__ == \"__main__\":\n",
    "    app.run(debug=True)"
   ]
  }
 ],
 "metadata": {
  "kernelspec": {
   "display_name": "Python 3 (ipykernel)",
   "language": "python",
   "name": "python3"
  },
  "language_info": {
   "codemirror_mode": {
    "name": "ipython",
    "version": 3
   },
   "file_extension": ".py",
   "mimetype": "text/x-python",
   "name": "python",
   "nbconvert_exporter": "python",
   "pygments_lexer": "ipython3",
   "version": "3.9.12"
  },
  "vscode": {
   "interpreter": {
    "hash": "a2833d879679dec7738b660211c00dd78bccc243163b5f505e1d38c87ea2dc67"
   }
  }
 },
 "nbformat": 4,
 "nbformat_minor": 5
}
